{
 "cells": [
  {
   "cell_type": "code",
   "execution_count": 1,
   "id": "05b03515",
   "metadata": {},
   "outputs": [
    {
     "name": "stdout",
     "output_type": "stream",
     "text": [
      "Expected node count: 55\n",
      "Your node count: 55\n",
      "That's right! Looks like your alpha-beta pruning is working!\n"
     ]
    }
   ],
   "source": [
    "\n",
    "import minimax\n",
    "import gamestate as game\n",
    "\n",
    "\n",
    "# Test the depth limit by checking the number of nodes visited\n",
    "# -- recall that minimax visits every node in the search tree,\n",
    "# so if we search depth one on an empty board then minimax should\n",
    "# visit each of the five open spaces\n",
    "expected_node_count = 55\n",
    "rootNode = game.GameState()\n",
    "minimax.alpha_beta_search(rootNode)\n",
    "\n",
    "print(\"Expected node count: {}\".format(expected_node_count))\n",
    "print(\"Your node count: {}\".format(game.call_counter))\n",
    "\n",
    "if game.call_counter == expected_node_count:\n",
    "    print(\"That's right! Looks like your alpha-beta pruning is working!\")\n",
    "else:\n",
    "    print(\"Uh oh...looks like there may be a problem.\")\n"
   ]
  },
  {
   "cell_type": "code",
   "execution_count": null,
   "id": "7aecec61",
   "metadata": {},
   "outputs": [],
   "source": []
  },
  {
   "cell_type": "code",
   "execution_count": null,
   "id": "2e86bd73",
   "metadata": {},
   "outputs": [],
   "source": []
  }
 ],
 "metadata": {
  "kernelspec": {
   "display_name": "venv",
   "language": "python",
   "name": "python3"
  },
  "language_info": {
   "codemirror_mode": {
    "name": "ipython",
    "version": 3
   },
   "file_extension": ".py",
   "mimetype": "text/x-python",
   "name": "python",
   "nbconvert_exporter": "python",
   "pygments_lexer": "ipython3",
   "version": "3.13.2"
  }
 },
 "nbformat": 4,
 "nbformat_minor": 5
}
